{
 "cells": [
  {
   "cell_type": "code",
   "execution_count": 61,
   "metadata": {},
   "outputs": [],
   "source": [
    "max_of_proc = 100\n",
    "min_of_proc = 2\n",
    "step = 1\n",
    "ite = 10\n",
    "total_round = int((max_of_proc - min_of_proc + 1) / step)"
   ]
  },
  {
   "cell_type": "code",
   "execution_count": 62,
   "metadata": {},
   "outputs": [
    {
     "data": {
      "text/plain": [
       "99"
      ]
     },
     "execution_count": 62,
     "metadata": {},
     "output_type": "execute_result"
    }
   ],
   "source": [
    "total_round"
   ]
  },
  {
   "cell_type": "code",
   "execution_count": 63,
   "metadata": {},
   "outputs": [],
   "source": [
    "f = open('nMsg_100_98_10.txt', 'r')\n",
    "lines = f.readlines()"
   ]
  },
  {
   "cell_type": "code",
   "execution_count": 64,
   "metadata": {},
   "outputs": [],
   "source": [
    "n_of_proc = min_of_proc\n",
    "proc_round = []\n",
    "m_round = []\n",
    "cnt_ite = 0\n",
    "m_ite = []\n",
    "for line in lines:\n",
    "    if len(line) == 53:\n",
    "        n_of_message = int(line[-3:-1])\n",
    "    elif len(line) == 52:\n",
    "        n_of_message = int(line[-2:-1])\n",
    "    m_ite.append(n_of_message)\n",
    "    cnt_ite += 1\n",
    "    if cnt_ite == n_of_proc * ite:\n",
    "        m_round.append(m_ite)\n",
    "        proc_round.append(n_of_proc)\n",
    "        cnt_ite = 0\n",
    "        m_ite = []\n",
    "        n_of_proc += 1  "
   ]
  },
  {
   "cell_type": "code",
   "execution_count": 65,
   "metadata": {},
   "outputs": [],
   "source": [
    "# for i in m_round:\n",
    "#     print(len(i))"
   ]
  },
  {
   "cell_type": "code",
   "execution_count": 66,
   "metadata": {},
   "outputs": [],
   "source": [
    "m_avg = []\n",
    "for i in m_round:\n",
    "    m_avg_ = sum(i) / len(i)\n",
    "    m_avg.append(m_avg_)"
   ]
  },
  {
   "cell_type": "code",
   "execution_count": 67,
   "metadata": {},
   "outputs": [],
   "source": [
    "proc_m_matrix = zip(proc_round, m_avg)"
   ]
  },
  {
   "cell_type": "code",
   "execution_count": 68,
   "metadata": {},
   "outputs": [],
   "source": [
    "# for i in proc_m_matrix:\n",
    "#     print(i)"
   ]
  },
  {
   "cell_type": "code",
   "execution_count": 69,
   "metadata": {},
   "outputs": [],
   "source": [
    "fw = open('message.txt', 'w')\n",
    "for i in proc_m_matrix:\n",
    "    fw.write(str(i[0]) + \" processors: \" + str(i[1]))\n",
    "    fw.write(\"\\n\")"
   ]
  },
  {
   "cell_type": "code",
   "execution_count": null,
   "metadata": {},
   "outputs": [],
   "source": []
  }
 ],
 "metadata": {
  "kernelspec": {
   "display_name": "Python 3",
   "language": "python",
   "name": "python3"
  },
  "language_info": {
   "codemirror_mode": {
    "name": "ipython",
    "version": 3
   },
   "file_extension": ".py",
   "mimetype": "text/x-python",
   "name": "python",
   "nbconvert_exporter": "python",
   "pygments_lexer": "ipython3",
   "version": "3.6.8"
  }
 },
 "nbformat": 4,
 "nbformat_minor": 2
}
